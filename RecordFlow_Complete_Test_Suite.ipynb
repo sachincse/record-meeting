{
 "cells": [
  {
   "cell_type": "markdown",
   "id": "69ec160a",
   "metadata": {},
   "source": [
    "# RecordFlow Complete Test Suite\n",
    "Test all major features: device detection, recording, CLI, GUI."
   ]
  },
  {
   "cell_type": "code",
   "execution_count": null,
   "id": "2e295a40",
   "metadata": {},
   "outputs": [],
   "source": [
    "from recordflow import device_manager\n",
    "device_manager.list_input_devices()"
   ]
  },
  {
   "cell_type": "code",
   "execution_count": null,
   "id": "02ece689",
   "metadata": {},
   "outputs": [],
   "source": [
    "from recordflow import RecordFlow\n",
    "rec = RecordFlow(record_mic=True, record_screen=False)\n",
    "rec.start()\n",
    "import time; time.sleep(3)\n",
    "rec.stop()"
   ]
  },
  {
   "cell_type": "code",
   "execution_count": null,
   "id": "2283587d",
   "metadata": {},
   "outputs": [],
   "source": [
    "# CLI test\n",
    "import subprocess\n",
    "subprocess.run(['recordflow', '--mic', '--duration', '1'])"
   ]
  }
 ],
 "metadata": {
  "language_info": {
   "name": "python"
  }
 },
 "nbformat": 4,
 "nbformat_minor": 5
}
